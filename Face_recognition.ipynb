{
 "cells": [
  {
   "cell_type": "code",
   "execution_count": 1,
   "metadata": {},
   "outputs": [
    {
     "ename": "",
     "evalue": "",
     "output_type": "error",
     "traceback": [
      "\u001b[1;31mThe Kernel crashed while executing code in the current cell or a previous cell. \n",
      "\u001b[1;31mPlease review the code in the cell(s) to identify a possible cause of the failure. \n",
      "\u001b[1;31mClick <a href='https://aka.ms/vscodeJupyterKernelCrash'>here</a> for more info. \n",
      "\u001b[1;31mView Jupyter <a href='command:jupyter.viewOutput'>log</a> for further details."
     ]
    }
   ],
   "source": [
    "import cv2\n",
    "import numpy as np\n",
    "import os\n",
    "\n",
    "recognizer = cv2.face.LBPHFaceRecognizer_create()\n",
    "recognizer.read('trainer/trainer.yml')\n",
    "cascadePath=('haarcascade_frontalface_default.xml')\n",
    "faceCascade = cv2.CascadeClassifier(cascadePath)\n",
    "\n",
    "font=cv2.FONT_HERSHEY_TRIPLEX\n",
    "\n",
    "id = 0\n",
    "\n",
    "names = [0,1,2,3,'Z','W']\n",
    "\n",
    "cam=cv2.VideoCapture(0)\n",
    "cam.set(3, 640)\n",
    "cam.set(4, 480)\n",
    "\n",
    "minW = 0.1*cam.get(3)\n",
    "minH = 0.1*cam.get(4)\n",
    "\n",
    "while True:\n",
    "    \n",
    "    ret, img = cam.read()\n",
    "    gray = cv2.cvtColor(img,cv2.COLOR_BGR2GRAY)\n",
    "    \n",
    "    faces = faceCascade.detectMultiScale(\n",
    "        gray,\n",
    "        scaleFactor = 1.2,\n",
    "        minNeighbors = 5,\n",
    "        minSize = (int(minW), int(minH)),\n",
    "    )\n",
    "    \n",
    "    for (x,y,w,h) in faces :\n",
    "        cv2.rectangle(img, (x,y) , (x+w,y+h), (0,255,0), 2)\n",
    "        id, confidence = recognizer.predict(gray[y:y+h,x:x+w])\n",
    "        \n",
    "        if(confidence<100):\n",
    "            id = names[id]\n",
    "            confidence= \" {0}%\".format(round(100-confidence))\n",
    "            \n",
    "        else:\n",
    "            id=\"unkown\"  \n",
    "            confidence= \"{0}%\" .format(round(100-confidence)) \n",
    "        \n",
    "        \n",
    "        cv2.putText(img,str(id),(x+5,y+5), font ,1,(255,255,255,2))\n",
    "        cv2.putText (img,str(confidence),(x+5,y+5),font,1,(255,255,0),1) \n",
    "    \n",
    "    cv2.imshow('camera',img)  \n",
    "    \n",
    "    k=cv2.waitKey(10) & 0xff\n",
    "    if k==27:\n",
    "        break\n",
    "    \n",
    "    \n",
    "print(\"\\n [INFO] Excisting program\") \n",
    "cam.release()\n",
    "cv2.destroyAllWindows()      "
   ]
  }
 ],
 "metadata": {
  "kernelspec": {
   "display_name": "base",
   "language": "python",
   "name": "python3"
  },
  "language_info": {
   "codemirror_mode": {
    "name": "ipython",
    "version": 3
   },
   "file_extension": ".py",
   "mimetype": "text/x-python",
   "name": "python",
   "nbconvert_exporter": "python",
   "pygments_lexer": "ipython3",
   "version": "3.12.4"
  }
 },
 "nbformat": 4,
 "nbformat_minor": 2
}

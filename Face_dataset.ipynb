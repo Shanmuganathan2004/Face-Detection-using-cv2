{
 "cells": [
  {
   "cell_type": "code",
   "execution_count": 3,
   "metadata": {},
   "outputs": [
    {
     "name": "stdout",
     "output_type": "stream",
     "text": [
      "\n",
      " [INFO] Initializing face capture.\n",
      "\n",
      " [INFO] Existing program\n"
     ]
    }
   ],
   "source": [
    "import cv2\n",
    "import os\n",
    "\n",
    "cam=cv2.VideoCapture(0) #For video capturing\n",
    "cam.set(3,640) #width\n",
    "cam.set(4,480) #height\n",
    "\n",
    "face_detector=cv2.CascadeClassifier('haarcascade_frontalface_default.xml')\n",
    "\n",
    "face_id=input(\"\\n enter user Id and press enter : \")\n",
    "\n",
    "print(\"\\n [INFO] Initializing face capture.\")\n",
    "\n",
    "\n",
    "count=0\n",
    "while(True):\n",
    "    ret ,img=cam.read()\n",
    "    gray = cv2.cvtColor(img,cv2.COLOR_BGR2GRAY)\n",
    "    faces = face_detector.detectMultiScale(gray, 1.3, 5)\n",
    "\n",
    "    for(x,y,w,h) in faces:\n",
    "        cv2.rectangle(img , (x,y), (x+w,y+h), (255, 0, 0), 2)\n",
    "        count+=1\n",
    "    \n",
    "        cv2.imwrite(\"dataset/User.\" + str(face_id) + '.' + str(count) + \".jpg\", gray[y:y+h,x:x+w] ) \n",
    "        cv2.imshow(\"image\", img)   \n",
    "    \n",
    "    \n",
    "    k = cv2.waitKey(100) & 0xff \n",
    "    if k == 27:\n",
    "        break\n",
    "    elif count>=30:\n",
    "        break\n",
    "\n",
    "print('\\n [INFO] Existing program') \n",
    "cam.release()\n",
    "cv2.destroyAllWindows() "
   ]
  }
 ],
 "metadata": {
  "kernelspec": {
   "display_name": "base",
   "language": "python",
   "name": "python3"
  },
  "language_info": {
   "codemirror_mode": {
    "name": "ipython",
    "version": 3
   },
   "file_extension": ".py",
   "mimetype": "text/x-python",
   "name": "python",
   "nbconvert_exporter": "python",
   "pygments_lexer": "ipython3",
   "version": "3.12.4"
  }
 },
 "nbformat": 4,
 "nbformat_minor": 2
}

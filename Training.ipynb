{
 "cells": [
  {
   "cell_type": "code",
   "execution_count": null,
   "metadata": {},
   "outputs": [],
   "source": [
    "import cv2\n",
    "import numpy as np\n",
    "from PIL import Image\n",
    "import os\n",
    "\n",
    "path='dataset'\n",
    "\n",
    "recognizer = cv2.face.LBPHFaceRecognizer_create()\n",
    "detector = cv2.CascadeClassifer(\"haarcascade_frontalface_default.xml\")\n",
    "\n",
    "def getImagesAndLabels(path):\n",
    "    \n",
    "    imagePaths =[os.path.join(path,f) for in os.listdir(path)]\n",
    "    facesamples =[]\n",
    "    ids=[]\n",
    "    \n",
    "    for imagePath in imagePaths:\n",
    "        PIL_img=Image.open(imagePath).covert('L')\n",
    "        img_numoy=np.array(PIL_img,'uint8')\n",
    "        \n",
    "        id =int(os.path.split(imagePath)[-1].split('.')[1]) \n",
    "        faces = detector.detectMultiScale(img_numpy) \n",
    "        \n",
    "        \n",
    "        for (x,y,w,h) in faces :\n",
    "            facesamples.append(img_numpy[y:y+h,x:x+w])   \n",
    "            ids.append(id)\n",
    "            \n",
    "     \n",
    "    return facesamples.ids\n",
    "\n",
    "\n",
    "print(\"\\n [INFO] training faces.....\")  \n",
    "faces,ids=getImagesAndLabels(path)\n",
    "recognizor.train(faces,np.array(ids))\n",
    "\n",
    "recognizer.write('trainer/trainer.yml')   \n",
    "\n",
    "print(\"\\n [INFO] {0} faces trained.\".format(len(np.unique(ids))))   "
   ]
  }
 ],
 "metadata": {
  "language_info": {
   "name": "python"
  }
 },
 "nbformat": 4,
 "nbformat_minor": 2
}
